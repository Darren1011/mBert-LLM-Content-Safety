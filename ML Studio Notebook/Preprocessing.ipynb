{
  "cells": [
    {
      "cell_type": "markdown",
      "source": [
        "## Data Preprocessing Script\n",
        "## \n",
        "This script performs the following steps on your dataset:\n",
        "\n",
        "1. Removes rows with empty values in any column.\n",
        "2. Retains only the columns `MTDI` and `Message`.\n",
        "3. Removes duplicate messages for the same `MTDI`.\n",
        "\n",
        "Follow the steps below to execute this script in your Azure ML Studio notebook."
      ],
      "metadata": {
        "nteract": {
          "transient": {
            "deleting": false
          }
        }
      }
    },
    {
      "cell_type": "markdown",
      "source": [
        "## Install Dependencies"
      ],
      "metadata": {
        "nteract": {
          "transient": {
            "deleting": false
          }
        }
      }
    },
    {
      "cell_type": "code",
      "source": [
        "import pandas as pd"
      ],
      "outputs": [],
      "execution_count": 1,
      "metadata": {
        "jupyter": {
          "source_hidden": false,
          "outputs_hidden": false
        },
        "nteract": {
          "transient": {
            "deleting": false
          }
        },
        "gather": {
          "logged": 1731653068512
        }
      }
    },
    {
      "cell_type": "markdown",
      "source": [
        "## Load the dataset"
      ],
      "metadata": {
        "nteract": {
          "transient": {
            "deleting": false
          }
        }
      }
    },
    {
      "cell_type": "code",
      "source": [
        "import os\n",
        "print(os.getcwd())  # This will show the current working directory"
      ],
      "outputs": [
        {
          "output_type": "stream",
          "name": "stdout",
          "text": "/mnt/batch/tasks/shared/LS_root/mounts/clusters/llmml/code/Users/jh.yan/LLM\n"
        }
      ],
      "execution_count": 10,
      "metadata": {
        "jupyter": {
          "source_hidden": false,
          "outputs_hidden": false
        },
        "nteract": {
          "transient": {
            "deleting": false
          }
        },
        "gather": {
          "logged": 1731653464381
        }
      }
    },
    {
      "cell_type": "code",
      "source": [
        "file_path = '/mnt/batch/tasks/shared/LS_root/mounts/clusters/llmml/code/Users/jh.yan/sms-Jan2022.xlsx'\n",
        "df = pd.read_excel(file_path)"
      ],
      "outputs": [],
      "execution_count": 12,
      "metadata": {
        "jupyter": {
          "source_hidden": false,
          "outputs_hidden": false
        },
        "nteract": {
          "transient": {
            "deleting": false
          }
        },
        "gather": {
          "logged": 1731653577700
        }
      }
    },
    {
      "cell_type": "markdown",
      "source": [
        "## Step 1: Drop rows with empty values"
      ],
      "metadata": {
        "nteract": {
          "transient": {
            "deleting": false
          }
        }
      }
    },
    {
      "cell_type": "code",
      "source": [
        "df_cleaned = df.dropna(how='any')"
      ],
      "outputs": [],
      "execution_count": 13,
      "metadata": {
        "jupyter": {
          "source_hidden": false,
          "outputs_hidden": false
        },
        "nteract": {
          "transient": {
            "deleting": false
          }
        },
        "gather": {
          "logged": 1731653623022
        }
      }
    },
    {
      "cell_type": "markdown",
      "source": [
        "## Step 2: Retain only 'MTID' and 'Message' columns"
      ],
      "metadata": {
        "nteract": {
          "transient": {
            "deleting": false
          }
        }
      }
    },
    {
      "cell_type": "code",
      "source": [
        "df_cleaned = df_cleaned[['MTID', 'Message']]"
      ],
      "outputs": [],
      "execution_count": 15,
      "metadata": {
        "jupyter": {
          "source_hidden": false,
          "outputs_hidden": false
        },
        "nteract": {
          "transient": {
            "deleting": false
          }
        },
        "gather": {
          "logged": 1731653662655
        }
      }
    },
    {
      "cell_type": "markdown",
      "source": [
        "## Step 3: Remove duplicate messages for the same 'MTID'"
      ],
      "metadata": {
        "nteract": {
          "transient": {
            "deleting": false
          }
        }
      }
    },
    {
      "cell_type": "code",
      "source": [
        "df_final = df_cleaned.drop_duplicates(subset=['MTID', 'Message'])"
      ],
      "outputs": [],
      "execution_count": 16,
      "metadata": {
        "jupyter": {
          "source_hidden": false,
          "outputs_hidden": false
        },
        "nteract": {
          "transient": {
            "deleting": false
          }
        },
        "gather": {
          "logged": 1731653712777
        }
      }
    },
    {
      "cell_type": "code",
      "source": [
        "# Display the cleaned dataset\n",
        "df_final.head()"
      ],
      "outputs": [
        {
          "output_type": "execute_result",
          "execution_count": 18,
          "data": {
            "text/plain": "          MTID                                            Message\n0  38207068202  RM0 The campaign is currently not in service. ...\n1  38207869751  RM0 Tu 1/9-31/10/2019, mua 1 lon 900g Abbott G...\n2  24222488285  RM0 Tu 1/9-31/10/2019, mua 1 lon 900g Abbott G...\n3  26208909251  RM0 Takaful Malaysia: Payment for myClick Moto...\n4  26208909253  RM0 Takaful Malaysia: Payment for myClick Moto...",
            "text/html": "<div>\n<style scoped>\n    .dataframe tbody tr th:only-of-type {\n        vertical-align: middle;\n    }\n\n    .dataframe tbody tr th {\n        vertical-align: top;\n    }\n\n    .dataframe thead th {\n        text-align: right;\n    }\n</style>\n<table border=\"1\" class=\"dataframe\">\n  <thead>\n    <tr style=\"text-align: right;\">\n      <th></th>\n      <th>MTID</th>\n      <th>Message</th>\n    </tr>\n  </thead>\n  <tbody>\n    <tr>\n      <th>0</th>\n      <td>38207068202</td>\n      <td>RM0 The campaign is currently not in service. ...</td>\n    </tr>\n    <tr>\n      <th>1</th>\n      <td>38207869751</td>\n      <td>RM0 Tu 1/9-31/10/2019, mua 1 lon 900g Abbott G...</td>\n    </tr>\n    <tr>\n      <th>2</th>\n      <td>24222488285</td>\n      <td>RM0 Tu 1/9-31/10/2019, mua 1 lon 900g Abbott G...</td>\n    </tr>\n    <tr>\n      <th>3</th>\n      <td>26208909251</td>\n      <td>RM0 Takaful Malaysia: Payment for myClick Moto...</td>\n    </tr>\n    <tr>\n      <th>4</th>\n      <td>26208909253</td>\n      <td>RM0 Takaful Malaysia: Payment for myClick Moto...</td>\n    </tr>\n  </tbody>\n</table>\n</div>"
          },
          "metadata": {}
        }
      ],
      "execution_count": 18,
      "metadata": {
        "jupyter": {
          "source_hidden": false,
          "outputs_hidden": false
        },
        "nteract": {
          "transient": {
            "deleting": false
          }
        },
        "gather": {
          "logged": 1731653793087
        }
      }
    },
    {
      "cell_type": "code",
      "source": [
        "# Optionally, save the cleaned data to a new file\n",
        "df_final.to_excel('/mnt/batch/tasks/shared/LS_root/mounts/clusters/llmml/code/Users/jh.yan/cleaned_sms_data.xlsx', index=False)"
      ],
      "outputs": [],
      "execution_count": 17,
      "metadata": {
        "jupyter": {
          "source_hidden": false,
          "outputs_hidden": false
        },
        "nteract": {
          "transient": {
            "deleting": false
          }
        },
        "gather": {
          "logged": 1731653792620
        }
      }
    }
  ],
  "metadata": {
    "kernelspec": {
      "name": "python310-sdkv2",
      "language": "python",
      "display_name": "Python 3.10 - SDK v2"
    },
    "language_info": {
      "name": "python",
      "version": "3.10.14",
      "mimetype": "text/x-python",
      "codemirror_mode": {
        "name": "ipython",
        "version": 3
      },
      "pygments_lexer": "ipython3",
      "nbconvert_exporter": "python",
      "file_extension": ".py"
    },
    "microsoft": {
      "ms_spell_check": {
        "ms_spell_check_language": "en"
      },
      "host": {
        "AzureML": {
          "notebookHasBeenCompleted": true
        }
      }
    },
    "kernel_info": {
      "name": "python310-sdkv2"
    },
    "nteract": {
      "version": "nteract-front-end@1.0.0"
    }
  },
  "nbformat": 4,
  "nbformat_minor": 2
}